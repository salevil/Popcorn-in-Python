{
 "cells": [
  {
   "cell_type": "code",
   "execution_count": null,
   "metadata": {},
   "outputs": [],
   "source": [
    "#code bit to generate a popcorn for class presentation.\n",
    "import random\n",
    "\n",
    "# Declaration of all variables (class_list array stores the names entered by user)\n",
    "# (name is an empty string that gets overridden by input in the loop at each iteration)\n",
    "# (sent for sentence: 3 different phrasing to be picked at random in the popcorning loop)\n",
    "class_list = []\n",
    "name = \"\"\n",
    "sent1 = \", you're up now!\"\n",
    "sent2 = \", tell us how it is!\"\n",
    "sent3 = \", go ahead\"\n",
    "sent_list = [sent1, sent2, sent3]\n",
    "\n",
    "# Setting up the study group: entering and storing names into list.\n",
    "print(\"Enter the names of all the students in your group:\")\n",
    "while name.lower() != \"done\":\n",
    "    name = input(\"\\n Enter a name, or type done when finished: \\n\")\n",
    "    if name.lower() != \"done\": #condition to prevent done from getting appended into class_list\n",
    "        class_list.append(name)\n",
    "        #\"Popcorning\" loop: picks a student in the list, then removes him from it. Process over when length of list is empty.\n",
    "while len(class_list) > 0:\n",
    "    element = random.choice(class_list)\n",
    "    class_list.remove(element)\n",
    "    chosen_sent = random.choice(sent_list)\n",
    "    print(\"\\n\" + str(element) + chosen_sent + \"\\n\")\n",
    "    #pause system inside the loop so that moves onto next student when previous one is finished.\n",
    "    restart_input = input(\"press Enter to continue. \\n \\n *********** \\n\")\n",
    "if len(class_list) == 0:\n",
    "    print(\"That's it, guys. Everyone has gone. Great job!\")"
   ]
  }
 ],
 "metadata": {
  "interpreter": {
   "hash": "9cb8e09b8c2fa8964fd9f8a827d084eefbac8f95b3dd5684759c7db4c181da6e"
  },
  "kernelspec": {
   "display_name": "Python 3.10.1 64-bit (windows store)",
   "language": "python",
   "name": "python3"
  },
  "language_info": {
   "codemirror_mode": {
    "name": "ipython",
    "version": 3
   },
   "file_extension": ".py",
   "mimetype": "text/x-python",
   "name": "python",
   "nbconvert_exporter": "python",
   "pygments_lexer": "ipython3",
   "version": "3.10.4"
  },
  "orig_nbformat": 4
 },
 "nbformat": 4,
 "nbformat_minor": 2
}
